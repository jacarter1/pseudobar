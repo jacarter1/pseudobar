{
 "cells": [
  {
   "cell_type": "markdown",
   "metadata": {},
   "source": [
    "# Bar Simulation (Pseudobar) Chatbot\n",
    "\n",
    "A final project by Jillian Carter, Fall 2020 COGS18 at UC San Diego."
   ]
  },
  {
   "cell_type": "markdown",
   "metadata": {},
   "source": [
    "### Does COVID-19 have you lamenting about the days of talking to random strangers at some unholy bar in Pacific Beach? Do you miss being complimented by Chad, and having him ask if you've met his \"super hot and single\" friend, Brad? Well, wish no more: I hear you, I see you, and I have a solution for you.\n",
    "\n",
    "### For my final project, I gained inspiration from the COVID FOMO* (Fear of Missing Out) in making a Chatbot that simulates a conversation with a potential male partner. To do this, I first created a class called SingleMingle, which takes in various instance attributes (name, age, friend, school, and drink) in order to create the optimal flirting experience. The class has multiple attributes that guide a user through a simulated conversation with a single male who is ready to mingle."
   ]
  },
  {
   "cell_type": "markdown",
   "metadata": {},
   "source": [
    "# Example Chat with Drake"
   ]
  },
  {
   "cell_type": "markdown",
   "metadata": {},
   "source": [
    "### Below is a demonstration of how my Pseudobar Chatbot operates, using our friend Drake and his buddy Josh as examples of the male species' attempt at mating."
   ]
  },
  {
   "cell_type": "code",
   "execution_count": 1,
   "metadata": {},
   "outputs": [],
   "source": [
    "from JC_module import pseudobar_functions as pf\n",
    "from JC_module import test_functions as tf"
   ]
  },
  {
   "cell_type": "code",
   "execution_count": 2,
   "metadata": {},
   "outputs": [],
   "source": [
    "Drake = pf.SingleMingle(name = \"Drake\",\n",
    "                    age = 32,\n",
    "                    friend = \"Josh\",\n",
    "                    school = \"SDSU\",\n",
    "                    drink = \"Natty Light\")"
   ]
  },
  {
   "cell_type": "code",
   "execution_count": 3,
   "metadata": {
    "scrolled": true
   },
   "outputs": [
    {
     "data": {
      "text/plain": [
       "\"Hey, I'm Drake. I just want to say you're hot.\""
      ]
     },
     "execution_count": 3,
     "metadata": {},
     "output_type": "execute_result"
    }
   ],
   "source": [
    "Drake.compliment()"
   ]
  },
  {
   "cell_type": "code",
   "execution_count": 4,
   "metadata": {},
   "outputs": [
    {
     "data": {
      "text/plain": [
       "\"Are you from Tennessee? Because you're the only 10 I see.\""
      ]
     },
     "execution_count": 4,
     "metadata": {},
     "output_type": "execute_result"
    }
   ],
   "source": [
    "Drake.pick_up_line()"
   ]
  },
  {
   "cell_type": "code",
   "execution_count": 5,
   "metadata": {},
   "outputs": [
    {
     "data": {
      "text/plain": [
       "\"Have you met my friend, Josh? I'll go grab him!\""
      ]
     },
     "execution_count": 5,
     "metadata": {},
     "output_type": "execute_result"
    }
   ],
   "source": [
    "Drake.wingman()"
   ]
  },
  {
   "cell_type": "code",
   "execution_count": 6,
   "metadata": {},
   "outputs": [
    {
     "name": "stdout",
     "output_type": "stream",
     "text": [
      "Hey, gorgeous! How old are you? (Please respond with a number.)\n",
      "17\n",
      "Oh, I'm getting a phone call.\n",
      "Have a great night!\n",
      "\n"
     ]
    }
   ],
   "source": [
    "Drake.over18()"
   ]
  },
  {
   "cell_type": "code",
   "execution_count": 7,
   "metadata": {},
   "outputs": [
    {
     "name": "stdout",
     "output_type": "stream",
     "text": [
      "Hey, gorgeous! How old are you? (Please respond with a number.)\n",
      "25\n",
      "Awesome! I am 32.\n"
     ]
    }
   ],
   "source": [
    "Drake.over18()"
   ]
  },
  {
   "cell_type": "code",
   "execution_count": 8,
   "metadata": {},
   "outputs": [
    {
     "name": "stdout",
     "output_type": "stream",
     "text": [
      "Hey, gorgeous! How old are you? (Please respond with a number.)\n",
      "78\n",
      "Aged like a fine wine!\n"
     ]
    }
   ],
   "source": [
    "Drake.over18()"
   ]
  },
  {
   "cell_type": "code",
   "execution_count": 9,
   "metadata": {},
   "outputs": [
    {
     "name": "stdout",
     "output_type": "stream",
     "text": [
      "Would you like a drink? (Please respond with 'Yes' or 'No')\n",
      "Yes\n",
      "Great! What kind of drink would you like?\n",
      "Natty Light\n",
      "That's my favorite, too! You got it.\n",
      "\n"
     ]
    }
   ],
   "source": [
    "Drake.want_a_drink()"
   ]
  },
  {
   "cell_type": "code",
   "execution_count": 10,
   "metadata": {},
   "outputs": [
    {
     "name": "stdout",
     "output_type": "stream",
     "text": [
      "Would you like a drink? (Please respond with 'Yes' or 'No')\n",
      "Yes\n",
      "Great! What kind of drink would you like?\n",
      "Vodka Soda\n",
      "Sure!\n"
     ]
    }
   ],
   "source": [
    "Drake.want_a_drink()"
   ]
  },
  {
   "cell_type": "code",
   "execution_count": 11,
   "metadata": {},
   "outputs": [
    {
     "name": "stdout",
     "output_type": "stream",
     "text": [
      "Would you like a drink? (Please respond with 'Yes' or 'No')\n",
      "No\n",
      "Okay! No problem. Have a great night!\n",
      "\n"
     ]
    }
   ],
   "source": [
    "Drake.want_a_drink()"
   ]
  },
  {
   "cell_type": "code",
   "execution_count": 12,
   "metadata": {},
   "outputs": [
    {
     "name": "stdout",
     "output_type": "stream",
     "text": [
      "Are you a student? (Please respond with 'Yes' or 'No')\n",
      "Yes\n",
      "Dope! What school do you go to?\n",
      "SDSU\n",
      "How have I never ran into a cutie like you on campus?\n",
      "\n"
     ]
    }
   ],
   "source": [
    "Drake.khosla()"
   ]
  },
  {
   "cell_type": "code",
   "execution_count": 13,
   "metadata": {},
   "outputs": [
    {
     "name": "stdout",
     "output_type": "stream",
     "text": [
      "Are you a student? (Please respond with 'Yes' or 'No')\n",
      "Yes\n",
      "Dope! What school do you go to?\n",
      "UCSD\n"
     ]
    },
    {
     "data": {
      "text/plain": [
       "'My buddy goes there! Have you met Josh?'"
      ]
     },
     "execution_count": 13,
     "metadata": {},
     "output_type": "execute_result"
    }
   ],
   "source": [
    "Drake.khosla()"
   ]
  },
  {
   "cell_type": "code",
   "execution_count": 14,
   "metadata": {},
   "outputs": [
    {
     "name": "stdout",
     "output_type": "stream",
     "text": [
      "2020-12-09 18:01:57.668908\n"
     ]
    }
   ],
   "source": [
    "Drake.check_your_watch()"
   ]
  },
  {
   "cell_type": "markdown",
   "metadata": {},
   "source": [
    "# Examples of my test functions in practice with the created class SingleMingle() and member Drake"
   ]
  },
  {
   "cell_type": "code",
   "execution_count": 15,
   "metadata": {},
   "outputs": [],
   "source": [
    "Drake = pf.SingleMingle(name = \"Drake\",\n",
    "                    age = 32,\n",
    "                    friend = \"Josh\",\n",
    "                    school = \"SDSU\",\n",
    "                    drink = \"Natty Light\")"
   ]
  },
  {
   "cell_type": "code",
   "execution_count": 16,
   "metadata": {},
   "outputs": [],
   "source": [
    "tf.test_SingleMingle(Drake)"
   ]
  },
  {
   "cell_type": "code",
   "execution_count": 17,
   "metadata": {},
   "outputs": [
    {
     "name": "stdout",
     "output_type": "stream",
     "text": [
      "My shoes must be untied, because I just fell for you.\n"
     ]
    }
   ],
   "source": [
    "tf.test_pick_up_line()"
   ]
  },
  {
   "cell_type": "code",
   "execution_count": 18,
   "metadata": {},
   "outputs": [
    {
     "name": "stdout",
     "output_type": "stream",
     "text": [
      "Hey, I'm Drake. I just want to say you have the most beautiful eyes.\n"
     ]
    }
   ],
   "source": [
    "tf.test_compliment()"
   ]
  },
  {
   "cell_type": "code",
   "execution_count": 19,
   "metadata": {},
   "outputs": [
    {
     "name": "stdout",
     "output_type": "stream",
     "text": [
      "Have you met my friend, Josh? I'll go grab him!\n"
     ]
    }
   ],
   "source": [
    "tf.test_wingman()"
   ]
  },
  {
   "cell_type": "code",
   "execution_count": 20,
   "metadata": {},
   "outputs": [
    {
     "name": "stdout",
     "output_type": "stream",
     "text": [
      "Hey, gorgeous! How old are you? (Please respond with a number.)\n",
      "21\n",
      "Awesome! I am 32.\n"
     ]
    }
   ],
   "source": [
    "tf.test_over18()"
   ]
  },
  {
   "cell_type": "code",
   "execution_count": 21,
   "metadata": {},
   "outputs": [
    {
     "name": "stdout",
     "output_type": "stream",
     "text": [
      "2020-12-09 18:02:05.916711\n"
     ]
    }
   ],
   "source": [
    "tf.test_check_your_watch()"
   ]
  },
  {
   "cell_type": "markdown",
   "metadata": {},
   "source": [
    "# Extra Credit"
   ]
  },
  {
   "cell_type": "markdown",
   "metadata": {},
   "source": [
    "#### This is my first time coding, and I was initially overwhelmed at the prospect of creating my own final project of this magnitude. With that being said, I am certain that there are students in our course who created far more complex projects that utilized a wider range of previously unexplored packages and methods! However, I tried my best on this project and am very proud of my work. I coded my own chatbot from scratch, which is something that we have not previously done in this course, hence urging me to challenge myself. I ensured that my functions passed all tests with my assert statements, and created as many test functions as I could think of. I also combined a wide array of Python tools learned in the past 10 weeks (datetime objects, importing packages such as datetime and random, creating classes and methods, etc.). Lastly, I genuinely had fun with this project, successfully turning it into a fun experience for both code creators (myself) and users alike."
   ]
  }
 ],
 "metadata": {
  "kernelspec": {
   "display_name": "Python 3",
   "language": "python",
   "name": "python3"
  },
  "language_info": {
   "codemirror_mode": {
    "name": "ipython",
    "version": 3
   },
   "file_extension": ".py",
   "mimetype": "text/x-python",
   "name": "python",
   "nbconvert_exporter": "python",
   "pygments_lexer": "ipython3",
   "version": "3.7.6"
  }
 },
 "nbformat": 4,
 "nbformat_minor": 4
}
